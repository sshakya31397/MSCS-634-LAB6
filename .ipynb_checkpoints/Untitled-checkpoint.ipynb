{
 "cells": [
  {
   "cell_type": "code",
   "execution_count": null,
   "id": "2bf315c4-58fb-4bcb-a7d9-4a91e2cf41fc",
   "metadata": {},
   "outputs": [],
   "source": [
    "Name: Sauhard Shakya \n",
    "Course: MSCS 634  \n",
    "Assignment: Lab 6 – Frequent Itemset Mining with Apriori and FP-Growth"
   ]
  },
  {
   "cell_type": "code",
   "execution_count": null,
   "id": "bc2196dd-0495-4be2-9c44-458fd25a8276",
   "metadata": {},
   "outputs": [],
   "source": [
    "# Step 1: Import required libraries\n",
    "import pandas as pd\n",
    "import matplotlib.pyplot as plt\n",
    "import seaborn as sns\n",
    "\n",
    "# Step 2: Load the dataset\n",
    "df = pd.read_excel(\"OnlineRetail.xlsx\")\n",
    "print(\"Original data shape:\", df.shape)\n",
    "\n",
    "# Step 3: Clean the data\n",
    "# Drop rows with missing invoice numbers or product descriptions\n",
    "df = df[df['InvoiceNo'].notnull() & df['Description'].notnull()]\n",
    "\n",
    "# Keep only rows with positive quantities\n",
    "df = df[df['Quantity'] > 0]\n",
    "\n",
    "# Remove cancelled transactions (InvoiceNo starting with 'C')\n",
    "df = df[~df['InvoiceNo'].astype(str).str.startswith('C')]\n",
    "\n",
    "print(\"Cleaned data shape:\", df.shape)\n",
    "\n",
    "# Optional: Check for any remaining missing values\n",
    "print(\"Missing values:\\n\", df.isnull().sum())\n",
    "\n",
    "# Step 4: Explore top-selling items\n",
    "top_items = df['Description'].value_counts().head(10)\n",
    "plt.figure(figsize=(10, 5))\n",
    "sns.barplot(x=top_items.values, y=top_items.index)\n",
    "plt.title(\"Top 10 Most Frequently Purchased Items\")\n",
    "plt.xlabel(\"Quantity Purchased\")\n",
    "plt.ylabel(\"Item Description\")\n",
    "plt.tight_layout()\n",
    "plt.show()\n",
    "\n",
    "# Step 5: Create the basket (pivot table)\n",
    "# Group by InvoiceNo and Description, then sum the quantities\n",
    "basket = df.groupby(['InvoiceNo', 'Description'])['Quantity'].sum().unstack().fillna(0)\n",
    "\n",
    "# Optional: view a sample of the basket\n",
    "print(\"Basket preview:\")\n",
    "print(basket.head())"
   ]
  }
 ],
 "metadata": {
  "kernelspec": {
   "display_name": "Python 3 (ipykernel)",
   "language": "python",
   "name": "python3"
  },
  "language_info": {
   "codemirror_mode": {
    "name": "ipython",
    "version": 3
   },
   "file_extension": ".py",
   "mimetype": "text/x-python",
   "name": "python",
   "nbconvert_exporter": "python",
   "pygments_lexer": "ipython3",
   "version": "3.13.1"
  }
 },
 "nbformat": 4,
 "nbformat_minor": 5
}
